{
 "cells": [
  {
   "cell_type": "code",
   "execution_count": 1,
   "metadata": {},
   "outputs": [
    {
     "data": {
      "text/plain": [
       "{'links': [{'source': 0, 'target': 16, 'value': 1}]}"
      ]
     },
     "execution_count": 1,
     "metadata": {},
     "output_type": "execute_result"
    }
   ],
   "source": [
    "# json format \n",
    "{\n",
    " \"links\": [\n",
    "  {\n",
    "   \"source\": 0,\n",
    "   \"target\": 16,\n",
    "   \"value\": 1\n",
    "  }]\n",
    "\n",
    "\"nodes\": [\n",
    "  {\n",
    "   \"group\": 1,\n",
    "   \"name\": \"AT2G25790\"\n",
    "  },\n",
    "]\n",
    "}"
   ]
  },
  {
   "cell_type": "code",
   "execution_count": 63,
   "metadata": {},
   "outputs": [],
   "source": [
    "import numpy as np\n",
    "\n",
    "test = [['A','B'],['B','C'],['B','D']]\n",
    "\n",
    "def edge2json(test):\n",
    "    test = np.array(test)\n",
    "    elements = list(set(np.ravel(test)))\n",
    "\n",
    "    nodes = ''\n",
    "    for n,e in enumerate(elements):\n",
    "        group = '\"group\" : %d'%n\n",
    "        name  = '\"name\" : \"%s\"'%e \n",
    "        nodes += \"{%s, %s},\\n\"%(group,name)\n",
    "    nodes = nodes.rstrip().rstrip(',')    \n",
    "\n",
    "    links = ''\n",
    "    for e in test:\n",
    "        source = '\"source\" : %d'%elements.index(e[0])\n",
    "        target = '\"target\" : %d'%elements.index(e[1])\n",
    "        value  = '\"value\" : 1'\n",
    "        links += \"{%s ,%s, %s},\\n\"%(source,target,value)\n",
    "    links = links.rstrip().rstrip(',')\n",
    "    final = '{\"links\" : [%s] ,\"nodes\" : [%s]}'%(links,nodes)\n",
    "    return final\n",
    "# print(final,file=open('test.json','w'))"
   ]
  },
  {
   "cell_type": "code",
   "execution_count": 64,
   "metadata": {},
   "outputs": [
    {
     "data": {
      "text/plain": [
       "'{\"links\" : [{\"source\" : 2 ,\"target\" : 3, \"value\" : 1},\\n{\"source\" : 3 ,\"target\" : 1, \"value\" : 1},\\n{\"source\" : 3 ,\"target\" : 0, \"value\" : 1}] ,\"nodes\" : [{\"group\" : 0, \"name\" : \"D\"},\\n{\"group\" : 1, \"name\" : \"C\"},\\n{\"group\" : 2, \"name\" : \"A\"},\\n{\"group\" : 3, \"name\" : \"B\"}]}'"
      ]
     },
     "execution_count": 64,
     "metadata": {},
     "output_type": "execute_result"
    }
   ],
   "source": [
    "edge2json(test)"
   ]
  },
  {
   "cell_type": "code",
   "execution_count": 65,
   "metadata": {},
   "outputs": [],
   "source": [
    "a = []"
   ]
  },
  {
   "cell_type": "code",
   "execution_count": 66,
   "metadata": {},
   "outputs": [],
   "source": [
    "a += test"
   ]
  },
  {
   "cell_type": "code",
   "execution_count": 67,
   "metadata": {},
   "outputs": [
    {
     "data": {
      "text/plain": [
       "[['A', 'B'], ['B', 'C'], ['B', 'D']]"
      ]
     },
     "execution_count": 67,
     "metadata": {},
     "output_type": "execute_result"
    }
   ],
   "source": [
    "a"
   ]
  },
  {
   "cell_type": "code",
   "execution_count": null,
   "metadata": {},
   "outputs": [],
   "source": []
  }
 ],
 "metadata": {
  "kernelspec": {
   "display_name": "Python 3",
   "language": "python",
   "name": "python3"
  },
  "language_info": {
   "codemirror_mode": {
    "name": "ipython",
    "version": 3
   },
   "file_extension": ".py",
   "mimetype": "text/x-python",
   "name": "python",
   "nbconvert_exporter": "python",
   "pygments_lexer": "ipython3",
   "version": "3.5.2"
  }
 },
 "nbformat": 4,
 "nbformat_minor": 2
}
